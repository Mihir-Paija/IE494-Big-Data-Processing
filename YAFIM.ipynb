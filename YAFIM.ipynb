{
  "nbformat": 4,
  "nbformat_minor": 0,
  "metadata": {
    "colab": {
      "provenance": []
    },
    "kernelspec": {
      "name": "python3",
      "display_name": "Python 3"
    },
    "language_info": {
      "name": "python"
    }
  },
  "cells": [
    {
      "cell_type": "code",
      "source": [
        "!pip install pyspark"
      ],
      "metadata": {
        "colab": {
          "base_uri": "https://localhost:8080/"
        },
        "id": "VhG2q6lksomj",
        "outputId": "e6c3566d-3c9e-4c42-ddd2-1a9872c0125c"
      },
      "execution_count": 3,
      "outputs": [
        {
          "output_type": "stream",
          "name": "stdout",
          "text": [
            "Collecting pyspark\n",
            "  Downloading pyspark-3.5.3.tar.gz (317.3 MB)\n",
            "\u001b[2K     \u001b[90m━━━━━━━━━━━━━━━━━━━━━━━━━━━━━━━━━━━━━━━━\u001b[0m \u001b[32m317.3/317.3 MB\u001b[0m \u001b[31m4.6 MB/s\u001b[0m eta \u001b[36m0:00:00\u001b[0m\n",
            "\u001b[?25h  Preparing metadata (setup.py) ... \u001b[?25l\u001b[?25hdone\n",
            "Requirement already satisfied: py4j==0.10.9.7 in /usr/local/lib/python3.10/dist-packages (from pyspark) (0.10.9.7)\n",
            "Building wheels for collected packages: pyspark\n",
            "  Building wheel for pyspark (setup.py) ... \u001b[?25l\u001b[?25hdone\n",
            "  Created wheel for pyspark: filename=pyspark-3.5.3-py2.py3-none-any.whl size=317840625 sha256=f1654ff668d7cc8d740846b6f393c9f67d04cb0729ddb33d5915bfeb161ce77c\n",
            "  Stored in directory: /root/.cache/pip/wheels/1b/3a/92/28b93e2fbfdbb07509ca4d6f50c5e407f48dce4ddbda69a4ab\n",
            "Successfully built pyspark\n",
            "Installing collected packages: pyspark\n",
            "Successfully installed pyspark-3.5.3\n"
          ]
        }
      ]
    },
    {
      "cell_type": "code",
      "execution_count": 4,
      "metadata": {
        "id": "bKBjui0Prtb3"
      },
      "outputs": [],
      "source": [
        "import sys\n",
        "from pyspark import SparkContext, SparkConf"
      ]
    },
    {
      "cell_type": "code",
      "source": [
        "# Initialize Spark\n",
        "conf = SparkConf().setAppName(\"YAFIM\").setMaster(\"local[*]\")\n",
        "sc = SparkContext(conf=conf)"
      ],
      "metadata": {
        "id": "6gg2qK9-s2YD"
      },
      "execution_count": 5,
      "outputs": []
    },
    {
      "cell_type": "code",
      "source": [
        "dataRDD = sc.textFile(\"/content/sample_dataset.csv\")"
      ],
      "metadata": {
        "id": "xxo82GCytBZ3"
      },
      "execution_count": 7,
      "outputs": []
    },
    {
      "cell_type": "code",
      "source": [
        "# Define the minimum support threshold\n",
        "min_sup = 2  # Set your minimum support value here"
      ],
      "metadata": {
        "id": "WbSUa5h9uRRm"
      },
      "execution_count": 10,
      "outputs": []
    },
    {
      "cell_type": "code",
      "source": [
        "# Step 1: Create an RDD of (item, 1) for each item in each transaction\n",
        "item_counts_RDD = dataRDD.flatMap(lambda line: [(item.strip(), 1) for item in line.split(\",\")]) \\\n",
        "                  .reduceByKey(lambda a, b: a + b)\n",
        "\n",
        "# Step 2: Filter items based on the minimum support\n",
        "frequent_items_RDD = item_counts_RDD.filter(lambda x: x[1] >= min_sup)\n",
        "\n",
        "# Step 3: Collect the results\n",
        "results = frequent_items_RDD.collect()\n",
        "\n",
        "# Print the results\n",
        "for item, count in results:\n",
        "    print(f\"Item: {item}, Count: {count}\")"
      ],
      "metadata": {
        "colab": {
          "base_uri": "https://localhost:8080/"
        },
        "id": "uqjniE1kuirX",
        "outputId": "a3ed1961-10e8-4f91-9a6d-9b95b1508e45"
      },
      "execution_count": 11,
      "outputs": [
        {
          "output_type": "stream",
          "name": "stdout",
          "text": [
            "Item: mango, Count: 2\n",
            "Item: milk, Count: 4\n",
            "Item: apple, Count: 4\n",
            "Item: beer, Count: 6\n",
            "Item: rice, Count: 4\n",
            "Item: chicken, Count: 2\n"
          ]
        }
      ]
    }
  ]
}